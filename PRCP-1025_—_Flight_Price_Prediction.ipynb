{
 "cells": [
  {
   "cell_type": "markdown",
   "id": "7f696a79-56ce-4a51-9cb5-d424708badad",
   "metadata": {},
   "source": [
    "#  PRCP-1025 — Flight Price Prediction"
   ]
  },
  {
   "cell_type": "markdown",
   "id": "076cf18b-a01b-4ad0-93ed-f42c17365d90",
   "metadata": {},
   "source": [
    "The aim of this project is to predict airline ticket prices using machine learning models.\n",
    "Accurate flight price prediction helps travelers plan better and allows airlines to optimize pricing strategies."
   ]
  },
  {
   "cell_type": "markdown",
   "id": "a60530b6-c04b-4f37-bbc3-d6499eb85171",
   "metadata": {},
   "source": [
    "Project Objective: Predict flight ticket prices using ML models.\n",
    "\n",
    "This script loads the dataset, performs EDA, preprocesses features, and compares multiple models."
   ]
  },
  {
   "cell_type": "markdown",
   "id": "2212ca4d-073a-4f8e-bb3f-bf77c0cad350",
   "metadata": {},
   "source": [
    "1. Import Libraries"
   ]
  },
  {
   "cell_type": "code",
   "execution_count": 5,
   "id": "9457c622-ea48-4d17-9527-6872d32189a5",
   "metadata": {},
   "outputs": [],
   "source": [
    "import warnings\n",
    "warnings.filterwarnings('ignore')\n",
    "\n",
    "\n",
    "import numpy as np\n",
    "import pandas as pd\n",
    "import matplotlib.pyplot as plt\n",
    "\n",
    "\n",
    "# ML libraries\n",
    "from sklearn.model_selection import train_test_split\n",
    "from sklearn.compose import ColumnTransformer\n",
    "from sklearn.preprocessing import OneHotEncoder, StandardScaler\n",
    "from sklearn.pipeline import Pipeline\n",
    "from sklearn.impute import SimpleImputer\n",
    "from sklearn.metrics import mean_absolute_error, mean_squared_error, r2_score\n",
    "from sklearn.linear_model import LinearRegression, Ridge, Lasso\n",
    "from sklearn.ensemble import RandomForestRegressor, GradientBoostingRegressor\n",
    "\n",
    "\n",
    "# XGBoost (if installed)\n",
    "try:\n",
    "    from xgboost import XGBRegressor\n",
    "    XGB_AVAILABLE = True\n",
    "except Exception:\n",
    "    XGB_AVAILABLE = False\n",
    "\n",
    "\n",
    "RANDOM_STATE = 42\n",
    "np.random.seed(RANDOM_STATE)"
   ]
  },
  {
   "cell_type": "markdown",
   "id": "4632c2ac-9fba-4c50-b150-8b32c3ea1b2c",
   "metadata": {},
   "source": [
    "2. Data Loading"
   ]
  },
  {
   "cell_type": "markdown",
   "id": "e399526d-8cc6-428b-9b3c-8105478bc235",
   "metadata": {},
   "source": [
    "Features: Airline, Source, Destination, Route, Total Stops, Duration, Date of Journey, Departure Time, Arrival Time, Additional Info\n",
    "\n",
    "Target Variable: Price (continuous numeric value)\n",
    "\n",
    "Dataset contains minimal missing values and was suitable for analysis after preprocessing."
   ]
  },
  {
   "cell_type": "code",
   "execution_count": 8,
   "id": "46c1a8af-2c73-46ac-9574-7957b095fcd1",
   "metadata": {},
   "outputs": [],
   "source": [
    "df = pd.read_excel(\"Flight_Fare.xlsx\")"
   ]
  },
  {
   "cell_type": "code",
   "execution_count": 9,
   "id": "5c71b8fb-d655-41b4-af59-7a820262de29",
   "metadata": {},
   "outputs": [
    {
     "data": {
      "text/html": [
       "<div>\n",
       "<style scoped>\n",
       "    .dataframe tbody tr th:only-of-type {\n",
       "        vertical-align: middle;\n",
       "    }\n",
       "\n",
       "    .dataframe tbody tr th {\n",
       "        vertical-align: top;\n",
       "    }\n",
       "\n",
       "    .dataframe thead th {\n",
       "        text-align: right;\n",
       "    }\n",
       "</style>\n",
       "<table border=\"1\" class=\"dataframe\">\n",
       "  <thead>\n",
       "    <tr style=\"text-align: right;\">\n",
       "      <th></th>\n",
       "      <th>Airline</th>\n",
       "      <th>Date_of_Journey</th>\n",
       "      <th>Source</th>\n",
       "      <th>Destination</th>\n",
       "      <th>Route</th>\n",
       "      <th>Dep_Time</th>\n",
       "      <th>Arrival_Time</th>\n",
       "      <th>Duration</th>\n",
       "      <th>Total_Stops</th>\n",
       "      <th>Additional_Info</th>\n",
       "      <th>Price</th>\n",
       "    </tr>\n",
       "  </thead>\n",
       "  <tbody>\n",
       "    <tr>\n",
       "      <th>0</th>\n",
       "      <td>IndiGo</td>\n",
       "      <td>24/03/2019</td>\n",
       "      <td>Banglore</td>\n",
       "      <td>New Delhi</td>\n",
       "      <td>BLR → DEL</td>\n",
       "      <td>22:20</td>\n",
       "      <td>01:10 22 Mar</td>\n",
       "      <td>2h 50m</td>\n",
       "      <td>non-stop</td>\n",
       "      <td>No info</td>\n",
       "      <td>3897</td>\n",
       "    </tr>\n",
       "    <tr>\n",
       "      <th>1</th>\n",
       "      <td>Air India</td>\n",
       "      <td>1/05/2019</td>\n",
       "      <td>Kolkata</td>\n",
       "      <td>Banglore</td>\n",
       "      <td>CCU → IXR → BBI → BLR</td>\n",
       "      <td>05:50</td>\n",
       "      <td>13:15</td>\n",
       "      <td>7h 25m</td>\n",
       "      <td>2 stops</td>\n",
       "      <td>No info</td>\n",
       "      <td>7662</td>\n",
       "    </tr>\n",
       "    <tr>\n",
       "      <th>2</th>\n",
       "      <td>Jet Airways</td>\n",
       "      <td>9/06/2019</td>\n",
       "      <td>Delhi</td>\n",
       "      <td>Cochin</td>\n",
       "      <td>DEL → LKO → BOM → COK</td>\n",
       "      <td>09:25</td>\n",
       "      <td>04:25 10 Jun</td>\n",
       "      <td>19h</td>\n",
       "      <td>2 stops</td>\n",
       "      <td>No info</td>\n",
       "      <td>13882</td>\n",
       "    </tr>\n",
       "    <tr>\n",
       "      <th>3</th>\n",
       "      <td>IndiGo</td>\n",
       "      <td>12/05/2019</td>\n",
       "      <td>Kolkata</td>\n",
       "      <td>Banglore</td>\n",
       "      <td>CCU → NAG → BLR</td>\n",
       "      <td>18:05</td>\n",
       "      <td>23:30</td>\n",
       "      <td>5h 25m</td>\n",
       "      <td>1 stop</td>\n",
       "      <td>No info</td>\n",
       "      <td>6218</td>\n",
       "    </tr>\n",
       "    <tr>\n",
       "      <th>4</th>\n",
       "      <td>IndiGo</td>\n",
       "      <td>01/03/2019</td>\n",
       "      <td>Banglore</td>\n",
       "      <td>New Delhi</td>\n",
       "      <td>BLR → NAG → DEL</td>\n",
       "      <td>16:50</td>\n",
       "      <td>21:35</td>\n",
       "      <td>4h 45m</td>\n",
       "      <td>1 stop</td>\n",
       "      <td>No info</td>\n",
       "      <td>13302</td>\n",
       "    </tr>\n",
       "    <tr>\n",
       "      <th>...</th>\n",
       "      <td>...</td>\n",
       "      <td>...</td>\n",
       "      <td>...</td>\n",
       "      <td>...</td>\n",
       "      <td>...</td>\n",
       "      <td>...</td>\n",
       "      <td>...</td>\n",
       "      <td>...</td>\n",
       "      <td>...</td>\n",
       "      <td>...</td>\n",
       "      <td>...</td>\n",
       "    </tr>\n",
       "    <tr>\n",
       "      <th>10678</th>\n",
       "      <td>Air Asia</td>\n",
       "      <td>9/04/2019</td>\n",
       "      <td>Kolkata</td>\n",
       "      <td>Banglore</td>\n",
       "      <td>CCU → BLR</td>\n",
       "      <td>19:55</td>\n",
       "      <td>22:25</td>\n",
       "      <td>2h 30m</td>\n",
       "      <td>non-stop</td>\n",
       "      <td>No info</td>\n",
       "      <td>4107</td>\n",
       "    </tr>\n",
       "    <tr>\n",
       "      <th>10679</th>\n",
       "      <td>Air India</td>\n",
       "      <td>27/04/2019</td>\n",
       "      <td>Kolkata</td>\n",
       "      <td>Banglore</td>\n",
       "      <td>CCU → BLR</td>\n",
       "      <td>20:45</td>\n",
       "      <td>23:20</td>\n",
       "      <td>2h 35m</td>\n",
       "      <td>non-stop</td>\n",
       "      <td>No info</td>\n",
       "      <td>4145</td>\n",
       "    </tr>\n",
       "    <tr>\n",
       "      <th>10680</th>\n",
       "      <td>Jet Airways</td>\n",
       "      <td>27/04/2019</td>\n",
       "      <td>Banglore</td>\n",
       "      <td>Delhi</td>\n",
       "      <td>BLR → DEL</td>\n",
       "      <td>08:20</td>\n",
       "      <td>11:20</td>\n",
       "      <td>3h</td>\n",
       "      <td>non-stop</td>\n",
       "      <td>No info</td>\n",
       "      <td>7229</td>\n",
       "    </tr>\n",
       "    <tr>\n",
       "      <th>10681</th>\n",
       "      <td>Vistara</td>\n",
       "      <td>01/03/2019</td>\n",
       "      <td>Banglore</td>\n",
       "      <td>New Delhi</td>\n",
       "      <td>BLR → DEL</td>\n",
       "      <td>11:30</td>\n",
       "      <td>14:10</td>\n",
       "      <td>2h 40m</td>\n",
       "      <td>non-stop</td>\n",
       "      <td>No info</td>\n",
       "      <td>12648</td>\n",
       "    </tr>\n",
       "    <tr>\n",
       "      <th>10682</th>\n",
       "      <td>Air India</td>\n",
       "      <td>9/05/2019</td>\n",
       "      <td>Delhi</td>\n",
       "      <td>Cochin</td>\n",
       "      <td>DEL → GOI → BOM → COK</td>\n",
       "      <td>10:55</td>\n",
       "      <td>19:15</td>\n",
       "      <td>8h 20m</td>\n",
       "      <td>2 stops</td>\n",
       "      <td>No info</td>\n",
       "      <td>11753</td>\n",
       "    </tr>\n",
       "  </tbody>\n",
       "</table>\n",
       "<p>10683 rows × 11 columns</p>\n",
       "</div>"
      ],
      "text/plain": [
       "           Airline Date_of_Journey    Source Destination  \\\n",
       "0           IndiGo      24/03/2019  Banglore   New Delhi   \n",
       "1        Air India       1/05/2019   Kolkata    Banglore   \n",
       "2      Jet Airways       9/06/2019     Delhi      Cochin   \n",
       "3           IndiGo      12/05/2019   Kolkata    Banglore   \n",
       "4           IndiGo      01/03/2019  Banglore   New Delhi   \n",
       "...            ...             ...       ...         ...   \n",
       "10678     Air Asia       9/04/2019   Kolkata    Banglore   \n",
       "10679    Air India      27/04/2019   Kolkata    Banglore   \n",
       "10680  Jet Airways      27/04/2019  Banglore       Delhi   \n",
       "10681      Vistara      01/03/2019  Banglore   New Delhi   \n",
       "10682    Air India       9/05/2019     Delhi      Cochin   \n",
       "\n",
       "                       Route Dep_Time  Arrival_Time Duration Total_Stops  \\\n",
       "0                  BLR → DEL    22:20  01:10 22 Mar   2h 50m    non-stop   \n",
       "1      CCU → IXR → BBI → BLR    05:50         13:15   7h 25m     2 stops   \n",
       "2      DEL → LKO → BOM → COK    09:25  04:25 10 Jun      19h     2 stops   \n",
       "3            CCU → NAG → BLR    18:05         23:30   5h 25m      1 stop   \n",
       "4            BLR → NAG → DEL    16:50         21:35   4h 45m      1 stop   \n",
       "...                      ...      ...           ...      ...         ...   \n",
       "10678              CCU → BLR    19:55         22:25   2h 30m    non-stop   \n",
       "10679              CCU → BLR    20:45         23:20   2h 35m    non-stop   \n",
       "10680              BLR → DEL    08:20         11:20       3h    non-stop   \n",
       "10681              BLR → DEL    11:30         14:10   2h 40m    non-stop   \n",
       "10682  DEL → GOI → BOM → COK    10:55         19:15   8h 20m     2 stops   \n",
       "\n",
       "      Additional_Info  Price  \n",
       "0             No info   3897  \n",
       "1             No info   7662  \n",
       "2             No info  13882  \n",
       "3             No info   6218  \n",
       "4             No info  13302  \n",
       "...               ...    ...  \n",
       "10678         No info   4107  \n",
       "10679         No info   4145  \n",
       "10680         No info   7229  \n",
       "10681         No info  12648  \n",
       "10682         No info  11753  \n",
       "\n",
       "[10683 rows x 11 columns]"
      ]
     },
     "execution_count": 9,
     "metadata": {},
     "output_type": "execute_result"
    }
   ],
   "source": [
    "df"
   ]
  },
  {
   "cell_type": "code",
   "execution_count": 10,
   "id": "8b542f66-8412-44ab-b36a-194de7d2c1f6",
   "metadata": {},
   "outputs": [
    {
     "data": {
      "text/plain": [
       "(10683, 11)"
      ]
     },
     "execution_count": 10,
     "metadata": {},
     "output_type": "execute_result"
    }
   ],
   "source": [
    "df.shape"
   ]
  },
  {
   "cell_type": "code",
   "execution_count": 12,
   "id": "80d8ce3d-4c9b-447c-a6ba-97305b39e5b8",
   "metadata": {},
   "outputs": [
    {
     "data": {
      "text/html": [
       "<div>\n",
       "<style scoped>\n",
       "    .dataframe tbody tr th:only-of-type {\n",
       "        vertical-align: middle;\n",
       "    }\n",
       "\n",
       "    .dataframe tbody tr th {\n",
       "        vertical-align: top;\n",
       "    }\n",
       "\n",
       "    .dataframe thead th {\n",
       "        text-align: right;\n",
       "    }\n",
       "</style>\n",
       "<table border=\"1\" class=\"dataframe\">\n",
       "  <thead>\n",
       "    <tr style=\"text-align: right;\">\n",
       "      <th></th>\n",
       "      <th>Airline</th>\n",
       "      <th>Date_of_Journey</th>\n",
       "      <th>Source</th>\n",
       "      <th>Destination</th>\n",
       "      <th>Route</th>\n",
       "      <th>Dep_Time</th>\n",
       "      <th>Arrival_Time</th>\n",
       "      <th>Duration</th>\n",
       "      <th>Total_Stops</th>\n",
       "      <th>Additional_Info</th>\n",
       "      <th>Price</th>\n",
       "    </tr>\n",
       "  </thead>\n",
       "  <tbody>\n",
       "    <tr>\n",
       "      <th>0</th>\n",
       "      <td>IndiGo</td>\n",
       "      <td>24/03/2019</td>\n",
       "      <td>Banglore</td>\n",
       "      <td>New Delhi</td>\n",
       "      <td>BLR → DEL</td>\n",
       "      <td>22:20</td>\n",
       "      <td>01:10 22 Mar</td>\n",
       "      <td>2h 50m</td>\n",
       "      <td>non-stop</td>\n",
       "      <td>No info</td>\n",
       "      <td>3897</td>\n",
       "    </tr>\n",
       "    <tr>\n",
       "      <th>1</th>\n",
       "      <td>Air India</td>\n",
       "      <td>1/05/2019</td>\n",
       "      <td>Kolkata</td>\n",
       "      <td>Banglore</td>\n",
       "      <td>CCU → IXR → BBI → BLR</td>\n",
       "      <td>05:50</td>\n",
       "      <td>13:15</td>\n",
       "      <td>7h 25m</td>\n",
       "      <td>2 stops</td>\n",
       "      <td>No info</td>\n",
       "      <td>7662</td>\n",
       "    </tr>\n",
       "    <tr>\n",
       "      <th>2</th>\n",
       "      <td>Jet Airways</td>\n",
       "      <td>9/06/2019</td>\n",
       "      <td>Delhi</td>\n",
       "      <td>Cochin</td>\n",
       "      <td>DEL → LKO → BOM → COK</td>\n",
       "      <td>09:25</td>\n",
       "      <td>04:25 10 Jun</td>\n",
       "      <td>19h</td>\n",
       "      <td>2 stops</td>\n",
       "      <td>No info</td>\n",
       "      <td>13882</td>\n",
       "    </tr>\n",
       "    <tr>\n",
       "      <th>3</th>\n",
       "      <td>IndiGo</td>\n",
       "      <td>12/05/2019</td>\n",
       "      <td>Kolkata</td>\n",
       "      <td>Banglore</td>\n",
       "      <td>CCU → NAG → BLR</td>\n",
       "      <td>18:05</td>\n",
       "      <td>23:30</td>\n",
       "      <td>5h 25m</td>\n",
       "      <td>1 stop</td>\n",
       "      <td>No info</td>\n",
       "      <td>6218</td>\n",
       "    </tr>\n",
       "    <tr>\n",
       "      <th>4</th>\n",
       "      <td>IndiGo</td>\n",
       "      <td>01/03/2019</td>\n",
       "      <td>Banglore</td>\n",
       "      <td>New Delhi</td>\n",
       "      <td>BLR → NAG → DEL</td>\n",
       "      <td>16:50</td>\n",
       "      <td>21:35</td>\n",
       "      <td>4h 45m</td>\n",
       "      <td>1 stop</td>\n",
       "      <td>No info</td>\n",
       "      <td>13302</td>\n",
       "    </tr>\n",
       "  </tbody>\n",
       "</table>\n",
       "</div>"
      ],
      "text/plain": [
       "       Airline Date_of_Journey    Source Destination                  Route  \\\n",
       "0       IndiGo      24/03/2019  Banglore   New Delhi              BLR → DEL   \n",
       "1    Air India       1/05/2019   Kolkata    Banglore  CCU → IXR → BBI → BLR   \n",
       "2  Jet Airways       9/06/2019     Delhi      Cochin  DEL → LKO → BOM → COK   \n",
       "3       IndiGo      12/05/2019   Kolkata    Banglore        CCU → NAG → BLR   \n",
       "4       IndiGo      01/03/2019  Banglore   New Delhi        BLR → NAG → DEL   \n",
       "\n",
       "  Dep_Time  Arrival_Time Duration Total_Stops Additional_Info  Price  \n",
       "0    22:20  01:10 22 Mar   2h 50m    non-stop         No info   3897  \n",
       "1    05:50         13:15   7h 25m     2 stops         No info   7662  \n",
       "2    09:25  04:25 10 Jun      19h     2 stops         No info  13882  \n",
       "3    18:05         23:30   5h 25m      1 stop         No info   6218  \n",
       "4    16:50         21:35   4h 45m      1 stop         No info  13302  "
      ]
     },
     "execution_count": 12,
     "metadata": {},
     "output_type": "execute_result"
    }
   ],
   "source": [
    "df.head()"
   ]
  },
  {
   "cell_type": "code",
   "execution_count": 13,
   "id": "298f8e69-6b39-46db-9e09-3686d6367771",
   "metadata": {},
   "outputs": [
    {
     "data": {
      "text/html": [
       "<div>\n",
       "<style scoped>\n",
       "    .dataframe tbody tr th:only-of-type {\n",
       "        vertical-align: middle;\n",
       "    }\n",
       "\n",
       "    .dataframe tbody tr th {\n",
       "        vertical-align: top;\n",
       "    }\n",
       "\n",
       "    .dataframe thead th {\n",
       "        text-align: right;\n",
       "    }\n",
       "</style>\n",
       "<table border=\"1\" class=\"dataframe\">\n",
       "  <thead>\n",
       "    <tr style=\"text-align: right;\">\n",
       "      <th></th>\n",
       "      <th>Airline</th>\n",
       "      <th>Date_of_Journey</th>\n",
       "      <th>Source</th>\n",
       "      <th>Destination</th>\n",
       "      <th>Route</th>\n",
       "      <th>Dep_Time</th>\n",
       "      <th>Arrival_Time</th>\n",
       "      <th>Duration</th>\n",
       "      <th>Total_Stops</th>\n",
       "      <th>Additional_Info</th>\n",
       "      <th>Price</th>\n",
       "    </tr>\n",
       "  </thead>\n",
       "  <tbody>\n",
       "    <tr>\n",
       "      <th>10678</th>\n",
       "      <td>Air Asia</td>\n",
       "      <td>9/04/2019</td>\n",
       "      <td>Kolkata</td>\n",
       "      <td>Banglore</td>\n",
       "      <td>CCU → BLR</td>\n",
       "      <td>19:55</td>\n",
       "      <td>22:25</td>\n",
       "      <td>2h 30m</td>\n",
       "      <td>non-stop</td>\n",
       "      <td>No info</td>\n",
       "      <td>4107</td>\n",
       "    </tr>\n",
       "    <tr>\n",
       "      <th>10679</th>\n",
       "      <td>Air India</td>\n",
       "      <td>27/04/2019</td>\n",
       "      <td>Kolkata</td>\n",
       "      <td>Banglore</td>\n",
       "      <td>CCU → BLR</td>\n",
       "      <td>20:45</td>\n",
       "      <td>23:20</td>\n",
       "      <td>2h 35m</td>\n",
       "      <td>non-stop</td>\n",
       "      <td>No info</td>\n",
       "      <td>4145</td>\n",
       "    </tr>\n",
       "    <tr>\n",
       "      <th>10680</th>\n",
       "      <td>Jet Airways</td>\n",
       "      <td>27/04/2019</td>\n",
       "      <td>Banglore</td>\n",
       "      <td>Delhi</td>\n",
       "      <td>BLR → DEL</td>\n",
       "      <td>08:20</td>\n",
       "      <td>11:20</td>\n",
       "      <td>3h</td>\n",
       "      <td>non-stop</td>\n",
       "      <td>No info</td>\n",
       "      <td>7229</td>\n",
       "    </tr>\n",
       "    <tr>\n",
       "      <th>10681</th>\n",
       "      <td>Vistara</td>\n",
       "      <td>01/03/2019</td>\n",
       "      <td>Banglore</td>\n",
       "      <td>New Delhi</td>\n",
       "      <td>BLR → DEL</td>\n",
       "      <td>11:30</td>\n",
       "      <td>14:10</td>\n",
       "      <td>2h 40m</td>\n",
       "      <td>non-stop</td>\n",
       "      <td>No info</td>\n",
       "      <td>12648</td>\n",
       "    </tr>\n",
       "    <tr>\n",
       "      <th>10682</th>\n",
       "      <td>Air India</td>\n",
       "      <td>9/05/2019</td>\n",
       "      <td>Delhi</td>\n",
       "      <td>Cochin</td>\n",
       "      <td>DEL → GOI → BOM → COK</td>\n",
       "      <td>10:55</td>\n",
       "      <td>19:15</td>\n",
       "      <td>8h 20m</td>\n",
       "      <td>2 stops</td>\n",
       "      <td>No info</td>\n",
       "      <td>11753</td>\n",
       "    </tr>\n",
       "  </tbody>\n",
       "</table>\n",
       "</div>"
      ],
      "text/plain": [
       "           Airline Date_of_Journey    Source Destination  \\\n",
       "10678     Air Asia       9/04/2019   Kolkata    Banglore   \n",
       "10679    Air India      27/04/2019   Kolkata    Banglore   \n",
       "10680  Jet Airways      27/04/2019  Banglore       Delhi   \n",
       "10681      Vistara      01/03/2019  Banglore   New Delhi   \n",
       "10682    Air India       9/05/2019     Delhi      Cochin   \n",
       "\n",
       "                       Route Dep_Time Arrival_Time Duration Total_Stops  \\\n",
       "10678              CCU → BLR    19:55        22:25   2h 30m    non-stop   \n",
       "10679              CCU → BLR    20:45        23:20   2h 35m    non-stop   \n",
       "10680              BLR → DEL    08:20        11:20       3h    non-stop   \n",
       "10681              BLR → DEL    11:30        14:10   2h 40m    non-stop   \n",
       "10682  DEL → GOI → BOM → COK    10:55        19:15   8h 20m     2 stops   \n",
       "\n",
       "      Additional_Info  Price  \n",
       "10678         No info   4107  \n",
       "10679         No info   4145  \n",
       "10680         No info   7229  \n",
       "10681         No info  12648  \n",
       "10682         No info  11753  "
      ]
     },
     "execution_count": 13,
     "metadata": {},
     "output_type": "execute_result"
    }
   ],
   "source": [
    "df.tail()"
   ]
  },
  {
   "cell_type": "markdown",
   "id": "cbf90bdf-bd2d-4fc8-bc1f-55246b873fd1",
   "metadata": {},
   "source": [
    "3. Exploratory Data Analysis (EDA)"
   ]
  },
  {
   "cell_type": "code",
   "execution_count": 15,
   "id": "bd70664a-779e-455a-89a9-ea63a1c97e60",
   "metadata": {},
   "outputs": [
    {
     "data": {
      "text/plain": [
       "Airline            0\n",
       "Date_of_Journey    0\n",
       "Source             0\n",
       "Destination        0\n",
       "Route              1\n",
       "Dep_Time           0\n",
       "Arrival_Time       0\n",
       "Duration           0\n",
       "Total_Stops        1\n",
       "Additional_Info    0\n",
       "Price              0\n",
       "dtype: int64"
      ]
     },
     "execution_count": 15,
     "metadata": {},
     "output_type": "execute_result"
    }
   ],
   "source": [
    "df.isna().sum()"
   ]
  },
  {
   "cell_type": "code",
   "execution_count": 16,
   "id": "f83c2901-7855-4e61-b17e-26953e32e653",
   "metadata": {},
   "outputs": [
    {
     "name": "stdout",
     "output_type": "stream",
     "text": [
      "Route              1\n",
      "Total_Stops        1\n",
      "Airline            0\n",
      "Date_of_Journey    0\n",
      "Source             0\n",
      "Destination        0\n",
      "Dep_Time           0\n",
      "Arrival_Time       0\n",
      "Duration           0\n",
      "Additional_Info    0\n",
      "Price              0\n",
      "dtype: int64\n"
     ]
    }
   ],
   "source": [
    "print(df.isna().sum().sort_values(ascending=False))"
   ]
  },
  {
   "cell_type": "code",
   "execution_count": 17,
   "id": "8c064934-a591-4709-9189-3e5712e9dbce",
   "metadata": {},
   "outputs": [
    {
     "name": "stdout",
     "output_type": "stream",
     "text": [
      "<class 'pandas.core.frame.DataFrame'>\n",
      "RangeIndex: 10683 entries, 0 to 10682\n",
      "Data columns (total 11 columns):\n",
      " #   Column           Non-Null Count  Dtype \n",
      "---  ------           --------------  ----- \n",
      " 0   Airline          10683 non-null  object\n",
      " 1   Date_of_Journey  10683 non-null  object\n",
      " 2   Source           10683 non-null  object\n",
      " 3   Destination      10683 non-null  object\n",
      " 4   Route            10682 non-null  object\n",
      " 5   Dep_Time         10683 non-null  object\n",
      " 6   Arrival_Time     10683 non-null  object\n",
      " 7   Duration         10683 non-null  object\n",
      " 8   Total_Stops      10682 non-null  object\n",
      " 9   Additional_Info  10683 non-null  object\n",
      " 10  Price            10683 non-null  int64 \n",
      "dtypes: int64(1), object(10)\n",
      "memory usage: 918.2+ KB\n"
     ]
    }
   ],
   "source": [
    "df.info()"
   ]
  },
  {
   "cell_type": "code",
   "execution_count": 19,
   "id": "9118e75d-76e2-4b4b-9b4d-5f98aff42503",
   "metadata": {},
   "outputs": [
    {
     "data": {
      "text/plain": [
       "Index(['Airline', 'Date_of_Journey', 'Source', 'Destination', 'Route',\n",
       "       'Dep_Time', 'Arrival_Time', 'Duration', 'Total_Stops',\n",
       "       'Additional_Info', 'Price'],\n",
       "      dtype='object')"
      ]
     },
     "execution_count": 19,
     "metadata": {},
     "output_type": "execute_result"
    }
   ],
   "source": [
    "df.columns"
   ]
  },
  {
   "cell_type": "code",
   "execution_count": 21,
   "id": "c4e2350d-3a25-416f-8f52-1d8633b0eddc",
   "metadata": {},
   "outputs": [
    {
     "data": {
      "text/html": [
       "<div>\n",
       "<style scoped>\n",
       "    .dataframe tbody tr th:only-of-type {\n",
       "        vertical-align: middle;\n",
       "    }\n",
       "\n",
       "    .dataframe tbody tr th {\n",
       "        vertical-align: top;\n",
       "    }\n",
       "\n",
       "    .dataframe thead th {\n",
       "        text-align: right;\n",
       "    }\n",
       "</style>\n",
       "<table border=\"1\" class=\"dataframe\">\n",
       "  <thead>\n",
       "    <tr style=\"text-align: right;\">\n",
       "      <th></th>\n",
       "      <th>Price</th>\n",
       "    </tr>\n",
       "  </thead>\n",
       "  <tbody>\n",
       "    <tr>\n",
       "      <th>count</th>\n",
       "      <td>10683.000000</td>\n",
       "    </tr>\n",
       "    <tr>\n",
       "      <th>mean</th>\n",
       "      <td>9087.064121</td>\n",
       "    </tr>\n",
       "    <tr>\n",
       "      <th>std</th>\n",
       "      <td>4611.359167</td>\n",
       "    </tr>\n",
       "    <tr>\n",
       "      <th>min</th>\n",
       "      <td>1759.000000</td>\n",
       "    </tr>\n",
       "    <tr>\n",
       "      <th>25%</th>\n",
       "      <td>5277.000000</td>\n",
       "    </tr>\n",
       "    <tr>\n",
       "      <th>50%</th>\n",
       "      <td>8372.000000</td>\n",
       "    </tr>\n",
       "    <tr>\n",
       "      <th>75%</th>\n",
       "      <td>12373.000000</td>\n",
       "    </tr>\n",
       "    <tr>\n",
       "      <th>max</th>\n",
       "      <td>79512.000000</td>\n",
       "    </tr>\n",
       "  </tbody>\n",
       "</table>\n",
       "</div>"
      ],
      "text/plain": [
       "              Price\n",
       "count  10683.000000\n",
       "mean    9087.064121\n",
       "std     4611.359167\n",
       "min     1759.000000\n",
       "25%     5277.000000\n",
       "50%     8372.000000\n",
       "75%    12373.000000\n",
       "max    79512.000000"
      ]
     },
     "execution_count": 21,
     "metadata": {},
     "output_type": "execute_result"
    }
   ],
   "source": [
    "df.describe()"
   ]
  },
  {
   "cell_type": "code",
   "execution_count": 22,
   "id": "30ce9ac8-2c3c-4a82-ac32-94be2186d6d2",
   "metadata": {},
   "outputs": [
    {
     "data": {
      "image/png": "[encoded data removed]",
      "text/plain": [
       "<Figure size 600x400 with 1 Axes>"
      ]
     },
     "metadata": {},
     "output_type": "display_data"
    }
   ],
   "source": [
    "# Target distribution\n",
    "plt.figure(figsize=(6,4))\n",
    "plt.hist(df['Price'].dropna(), bins=40)\n",
    "plt.title('Distribution of Price')\n",
    "plt.xlabel('Price')\n",
    "plt.ylabel('Count')\n",
    "plt.show()"
   ]
  },
  {
   "cell_type": "markdown",
   "id": "d7bc2012-1819-4205-a71d-18826e45989f",
   "metadata": {},
   "source": [
    "4. Feature Engineering"
   ]
  },
  {
   "cell_type": "code",
   "execution_count": 26,
   "id": "91b34852-140a-4e92-b86c-b0fc3f061db9",
   "metadata": {},
   "outputs": [],
   "source": [
    "import re\n",
    "from datetime import datetime\n",
    "\n",
    "\n",
    "def parse_duration_to_minutes(s):\n",
    "    if pd.isna(s):\n",
    "        return np.nan\n",
    "    s = str(s).strip().lower().replace(' ', '')\n",
    "    h, m = 0, 0\n",
    "    mh = re.search(r'(\\d+)h', s)\n",
    "    mm = re.search(r'(\\d+)m', s)\n",
    "    if mh:\n",
    "        h = int(mh.group(1))\n",
    "    if mm:\n",
    "        m = int(mm.group(1))\n",
    "    return h * 60 + m"
   ]
  },
  {
   "cell_type": "code",
   "execution_count": 28,
   "id": "81b37021-1350-4556-b020-3ba8612592ed",
   "metadata": {},
   "outputs": [],
   "source": [
    "def time_to_minutes(t):\n",
    "    if pd.isna(t):\n",
    "        return np.nan\n",
    "    t = str(t).strip()\n",
    "    try:\n",
    "        if 'am' in t.lower() or 'pm' in t.lower():\n",
    "            dt = pd.to_datetime(t).time()\n",
    "        else:\n",
    "            dt = datetime.strptime(t, \"%H:%M\").time()\n",
    "        return dt.hour * 60 + dt.minute\n",
    "    except Exception:\n",
    "        try:\n",
    "            dt = pd.to_datetime(t).time()\n",
    "            return dt.hour * 60 + dt.minute\n",
    "        except Exception:\n",
    "            return np.nan"
   ]
  },
  {
   "cell_type": "code",
   "execution_count": 29,
   "id": "fdeb5636-e7e7-48f5-a089-ed6ca960fdb0",
   "metadata": {},
   "outputs": [],
   "source": [
    "def stops_to_int(s):\n",
    "    if pd.isna(s):\n",
    "        return np.nan\n",
    "    s = str(s).lower().strip()\n",
    "    if 'non' in s:\n",
    "        return 0\n",
    "    m = re.search(r'(\\d+)', s)\n",
    "    if m:\n",
    "        return int(m.group(1))\n",
    "    return np.nan"
   ]
  },
  {
   "cell_type": "markdown",
   "id": "0d9ab219-b37d-40ec-b709-8d6de4f19e1e",
   "metadata": {},
   "source": [
    "Apply feature engineering"
   ]
  },
  {
   "cell_type": "code",
   "execution_count": 31,
   "id": "4949253f-cc17-4762-8018-5407b1488015",
   "metadata": {},
   "outputs": [],
   "source": [
    "data = df.copy()\n",
    "if 'Date_of_Journey' in data.columns:\n",
    "    data['Journey_Date'] = pd.to_datetime(data['Date_of_Journey'], errors='coerce')\n",
    "    data['journey_day'] = data['Journey_Date'].dt.day\n",
    "    data['journey_month'] = data['Journey_Date'].dt.month\n",
    "    data['journey_year'] = data['Journey_Date'].dt.year\n",
    "    data['day_of_week'] = data['Journey_Date'].dt.dayofweek"
   ]
  },
  {
   "cell_type": "code",
   "execution_count": 32,
   "id": "8a5c710f-f04c-4875-9025-ec0b058e5e9c",
   "metadata": {},
   "outputs": [],
   "source": [
    "if 'Dep_Time' in data.columns:\n",
    "    data['dep_minutes'] = data['Dep_Time'].apply(time_to_minutes)"
   ]
  },
  {
   "cell_type": "code",
   "execution_count": 33,
   "id": "3a45c643-f9fd-407f-b441-4886fcad94ef",
   "metadata": {},
   "outputs": [],
   "source": [
    "if 'Arrival_Time' in data.columns:\n",
    "    data['arr_minutes'] = data['Arrival_Time'].apply(time_to_minutes)"
   ]
  },
  {
   "cell_type": "code",
   "execution_count": 34,
   "id": "2276f12f-b12c-47db-a9d0-3000d2e6b997",
   "metadata": {},
   "outputs": [],
   "source": [
    "if 'Duration' in data.columns:\n",
    "    data['duration_mins'] = data['Duration'].apply(parse_duration_to_minutes)"
   ]
  },
  {
   "cell_type": "code",
   "execution_count": 36,
   "id": "98730189-aec9-4658-9a25-e1e4ee0cfe75",
   "metadata": {},
   "outputs": [],
   "source": [
    "if 'Total_Stops' in data.columns:\n",
    "    data['total_stops_int'] = data['Total_Stops'].apply(stops_to_int)"
   ]
  },
  {
   "cell_type": "markdown",
   "id": "2315a21a-2990-45f4-939e-587b42e10a45",
   "metadata": {},
   "source": [
    "Target variable"
   ]
  },
  {
   "cell_type": "code",
   "execution_count": 37,
   "id": "5b8be2a8-f2b5-40d0-9c6e-52189ae57bf4",
   "metadata": {},
   "outputs": [],
   "source": [
    "data['Price'] = pd.to_numeric(data['Price'], errors='coerce')\n",
    "data = data[~data['Price'].isna()].reset_index(drop=True)"
   ]
  },
  {
   "cell_type": "markdown",
   "id": "a2aee909-22f6-4732-a533-ec7cca5c6dbd",
   "metadata": {},
   "source": [
    "5. Preprocessing"
   ]
  },
  {
   "cell_type": "code",
   "execution_count": 38,
   "id": "772a16f8-9890-4b4b-95ca-a08b7894fce6",
   "metadata": {},
   "outputs": [],
   "source": [
    "candidate_features = [\n",
    "'journey_day', 'journey_month', 'journey_year', 'day_of_week',\n",
    "'dep_minutes', 'arr_minutes', 'duration_mins', 'total_stops_int'\n",
    "]"
   ]
  },
  {
   "cell_type": "code",
   "execution_count": 40,
   "id": "6a3a55d0-5cd2-4750-aebc-e7198c0be094",
   "metadata": {},
   "outputs": [],
   "source": [
    "categorical_cols = []\n",
    "for c in ['Airline', 'Source', 'Destination', 'Route', 'Additional_Info']:\n",
    "    if c in data.columns:\n",
    "        categorical_cols.append(c)"
   ]
  },
  {
   "cell_type": "code",
   "execution_count": 41,
   "id": "51ade9c0-6fbf-4fba-8538-a8986652fa5d",
   "metadata": {},
   "outputs": [],
   "source": [
    "numeric_cols = [c for c in candidate_features if c in data.columns]"
   ]
  },
  {
   "cell_type": "code",
   "execution_count": 42,
   "id": "239da2ec-8cdd-460f-b1bd-7a2614949036",
   "metadata": {},
   "outputs": [],
   "source": [
    "numeric_transformer = Pipeline(steps=[\n",
    "('imputer', SimpleImputer(strategy='median')),\n",
    "('scaler', StandardScaler())\n",
    "])"
   ]
  },
  {
   "cell_type": "code",
   "execution_count": 43,
   "id": "290bc78e-ffb3-4b94-9ef3-dd68e2c450b1",
   "metadata": {},
   "outputs": [],
   "source": [
    "categorical_transformer = Pipeline(steps=[\n",
    "('imputer', SimpleImputer(strategy='most_frequent')),\n",
    "('onehot', OneHotEncoder(handle_unknown='ignore', sparse_output=False))\n",
    "])"
   ]
  },
  {
   "cell_type": "code",
   "execution_count": 44,
   "id": "99093b84-abc7-4d98-87b7-92a6b877198e",
   "metadata": {},
   "outputs": [],
   "source": [
    "preprocessor = ColumnTransformer(\n",
    "transformers=[\n",
    "('num', numeric_transformer, numeric_cols),\n",
    "('cat', categorical_transformer, categorical_cols)\n",
    "],\n",
    "remainder='drop'\n",
    ")"
   ]
  },
  {
   "cell_type": "markdown",
   "id": "0dc60206-38a2-44b4-b497-78bb140cab4f",
   "metadata": {},
   "source": [
    "6. Train/Test Split"
   ]
  },
  {
   "cell_type": "code",
   "execution_count": 45,
   "id": "b127e524-b0d9-49c1-9337-8da1fd282276",
   "metadata": {},
   "outputs": [],
   "source": [
    "X = data[numeric_cols + categorical_cols]\n",
    "y = data['Price'].astype(float)\n",
    "\n",
    "\n",
    "X_train, X_test, y_train, y_test = train_test_split(\n",
    "X, y, test_size=0.2, random_state=RANDOM_STATE\n",
    ")"
   ]
  },
  {
   "cell_type": "markdown",
   "id": "f07719f7-6c62-4bfd-bf04-74754875a4c6",
   "metadata": {},
   "source": [
    "7. Models Training & Evaluation\n",
    "\n",
    " NOTE: Since this is a REGRESSION problem (predicting continuous prices),\n",
    "* we cannot use classification metrics like Precision, Recall, or Accuracy.\n",
    "* Instead, we use:\n",
    "*  MAE (Mean Absolute Error)\n",
    "*  RMSE (Root Mean Squared Error)\n",
    "*  R² (explained variance)  "
   ]
  },
  {
   "cell_type": "markdown",
   "id": "86df1ae6-a186-4fe0-a2d7-dfbdacb047fe",
   "metadata": {},
   "source": [
    "Model 1: Linear Regression"
   ]
  },
  {
   "cell_type": "code",
   "execution_count": 52,
   "id": "8c8d4e2b-3a52-471c-8da6-40d42659eb1f",
   "metadata": {},
   "outputs": [],
   "source": [
    "results = {}"
   ]
  },
  {
   "cell_type": "code",
   "execution_count": 53,
   "id": "31b1c6c4-87e2-4328-9c28-d9c113b3bf98",
   "metadata": {},
   "outputs": [],
   "source": [
    "linreg_pipe = Pipeline(steps=[\n",
    "('preprocess', preprocessor),\n",
    "('model', LinearRegression())\n",
    "])\n",
    "linreg_pipe.fit(X_train, y_train)\n",
    "y_pred_lin = linreg_pipe.predict(X_test)\n",
    "results['Linear Regression'] = [\n",
    "mean_absolute_error(y_test, y_pred_lin),\n",
    "mean_squared_error(y_test, y_pred_lin, squared=False),\n",
    "r2_score(y_test, y_pred_lin)\n",
    "]"
   ]
  },
  {
   "cell_type": "markdown",
   "id": "9c3b6e07-5dd4-42ea-9681-1a1d4be00138",
   "metadata": {},
   "source": [
    "Model 2: Ridge Regression"
   ]
  },
  {
   "cell_type": "code",
   "execution_count": 54,
   "id": "58484e38-a1c2-4bf1-98c0-2b9d8424d07a",
   "metadata": {},
   "outputs": [],
   "source": [
    "ridge_pipe = Pipeline(steps=[\n",
    "('preprocess', preprocessor),\n",
    "('model', Ridge(alpha=1.0, random_state=RANDOM_STATE))\n",
    "])\n",
    "ridge_pipe.fit(X_train, y_train)\n",
    "y_pred_ridge = ridge_pipe.predict(X_test)\n",
    "results['Ridge Regression'] = [\n",
    "mean_absolute_error(y_test, y_pred_ridge),\n",
    "mean_squared_error(y_test, y_pred_ridge, squared=False),\n",
    "r2_score(y_test, y_pred_ridge)\n",
    "]"
   ]
  },
  {
   "cell_type": "markdown",
   "id": "9f787544-ba06-453e-a55a-58e65b244d67",
   "metadata": {},
   "source": [
    "Model 3: Lasso Regression"
   ]
  },
  {
   "cell_type": "code",
   "execution_count": 55,
   "id": "d403fb99-fa2f-4785-91a5-11a426c4cc15",
   "metadata": {},
   "outputs": [],
   "source": [
    "lasso_pipe = Pipeline(steps=[\n",
    "('preprocess', preprocessor),\n",
    "('model', Lasso(alpha=0.001, random_state=RANDOM_STATE))\n",
    "])\n",
    "lasso_pipe.fit(X_train, y_train)\n",
    "y_pred_lasso = lasso_pipe.predict(X_test)\n",
    "results['Lasso Regression'] = [\n",
    "mean_absolute_error(y_test, y_pred_lasso),\n",
    "mean_squared_error(y_test, y_pred_lasso, squared=False),\n",
    "r2_score(y_test, y_pred_lasso)\n",
    "]"
   ]
  },
  {
   "cell_type": "markdown",
   "id": "e24a6ac4-a05a-4bfa-9100-44c3a0f30321",
   "metadata": {},
   "source": [
    "Model 4: Random Forest"
   ]
  },
  {
   "cell_type": "code",
   "execution_count": 56,
   "id": "616f7bea-8b18-4fff-91c8-fecf44a2e16b",
   "metadata": {},
   "outputs": [],
   "source": [
    "rf_pipe = Pipeline(steps=[\n",
    "('preprocess', preprocessor),\n",
    "('model', RandomForestRegressor(n_estimators=300, random_state=RANDOM_STATE, n_jobs=-1))\n",
    "])\n",
    "rf_pipe.fit(X_train, y_train)\n",
    "y_pred_rf = rf_pipe.predict(X_test)\n",
    "results['Random Forest'] = [\n",
    "mean_absolute_error(y_test, y_pred_rf),\n",
    "mean_squared_error(y_test, y_pred_rf, squared=False),\n",
    "r2_score(y_test, y_pred_rf)\n",
    "]"
   ]
  },
  {
   "cell_type": "markdown",
   "id": "f7dc3381-0323-4eaa-8189-3f180d533310",
   "metadata": {},
   "source": [
    "Model 5: Gradient Boosting"
   ]
  },
  {
   "cell_type": "code",
   "execution_count": 57,
   "id": "d0de44de-6001-4912-9c14-f195098ec02a",
   "metadata": {},
   "outputs": [],
   "source": [
    "gb_pipe = Pipeline(steps=[\n",
    "('preprocess', preprocessor),\n",
    "('model', GradientBoostingRegressor(random_state=RANDOM_STATE))\n",
    "])\n",
    "gb_pipe.fit(X_train, y_train)\n",
    "y_pred_gb = gb_pipe.predict(X_test)\n",
    "results['Gradient Boosting'] = [\n",
    "mean_absolute_error(y_test, y_pred_gb),\n",
    "mean_squared_error(y_test, y_pred_gb, squared=False),\n",
    "r2_score(y_test, y_pred_gb)\n",
    "]"
   ]
  },
  {
   "cell_type": "markdown",
   "id": "c3886b86-76cc-4bd3-b643-e3447b54b16d",
   "metadata": {},
   "source": [
    "Model 6: XGBoost"
   ]
  },
  {
   "cell_type": "code",
   "execution_count": 59,
   "id": "36dd4347-a75b-43a0-ab00-19dfa6fd5d28",
   "metadata": {},
   "outputs": [],
   "source": [
    "if XGB_AVAILABLE:\n",
    "    xgb_pipe = Pipeline(steps=[\n",
    "        ('preprocess', preprocessor),\n",
    "        ('model', XGBRegressor(\n",
    "            n_estimators=600, learning_rate=0.05, max_depth=6,\n",
    "            subsample=0.9, colsample_bytree=0.9, random_state=RANDOM_STATE,\n",
    "            reg_lambda=1.0, objective='reg:squarederror', n_jobs=-1\n",
    "        ))\n",
    "    ])\n",
    "    xgb_pipe.fit(X_train, y_train)\n",
    "    y_pred_xgb = xgb_pipe.predict(X_test)\n",
    "    results['XGBoost'] = [\n",
    "            mean_absolute_error(y_test, y_pred_xgb),\n",
    "            mean_squared_error(y_test, y_pred_xgb, squared=False),\n",
    "            r2_score(y_test, y_pred_xgb)\n",
    "    ]"
   ]
  },
  {
   "cell_type": "markdown",
   "id": "e6b80f14-3aa9-4171-acb9-7948a4f3409e",
   "metadata": {},
   "source": [
    "8. Results Table"
   ]
  },
  {
   "cell_type": "code",
   "execution_count": 60,
   "id": "7d7d0c83-2162-40e6-ab2f-f8af97da2c68",
   "metadata": {},
   "outputs": [
    {
     "name": "stdout",
     "output_type": "stream",
     "text": [
      "\n",
      "=== Model Comparison ===\n",
      "                            MAE          RMSE            R2\n",
      "Linear Regression  1.735888e+10  6.112893e+11 -1.765617e+16\n",
      "Ridge Regression   1.568184e+03  2.292335e+03  7.517100e-01\n",
      "Lasso Regression   1.572428e+03  2.308599e+03  7.481744e-01\n",
      "Random Forest      5.941651e+02  1.519367e+03  8.909242e-01\n",
      "Gradient Boosting  1.283447e+03  1.922721e+03  8.253231e-01\n"
     ]
    }
   ],
   "source": [
    "results_df = pd.DataFrame(results, index=['MAE', 'RMSE', 'R2']).T\n",
    "print(\"\\n=== Model Comparison ===\")\n",
    "print(results_df)"
   ]
  },
  {
   "cell_type": "code",
   "execution_count": 61,
   "id": "8e1a5e91-150f-43c4-b6ef-ec17ad3217e3",
   "metadata": {},
   "outputs": [
    {
     "data": {
      "text/plain": [
       "<Figure size 1000x600 with 0 Axes>"
      ]
     },
     "metadata": {},
     "output_type": "display_data"
    },
    {
     "data": {
      "image/png": "[encoded data removed]",
      "text/plain": [
       "<Figure size 1200x600 with 1 Axes>"
      ]
     },
     "metadata": {},
     "output_type": "display_data"
    }
   ],
   "source": [
    "plt.figure(figsize=(10, 6))\n",
    "results_df[['MAE','RMSE']].plot(kind='bar', figsize=(12, 6))\n",
    "plt.title('Model Comparison: MAE and RMSE')\n",
    "plt.ylabel('Error')\n",
    "plt.xticks(rotation=45)\n",
    "plt.grid(axis='y', linestyle='--', alpha=0.7)\n",
    "plt.tight_layout()\n",
    "plt.show()"
   ]
  },
  {
   "cell_type": "code",
   "execution_count": 62,
   "id": "bb38154a-2211-4abf-b8f1-d8d563938260",
   "metadata": {},
   "outputs": [
    {
     "data": {
      "image/png": "[encoded data removed]",
      "text/plain": [
       "<Figure size 1200x600 with 1 Axes>"
      ]
     },
     "metadata": {},
     "output_type": "display_data"
    }
   ],
   "source": [
    "plt.figure(figsize=(10, 6))\n",
    "results_df['R2'].plot(kind='bar', color='skyblue', figsize=(12, 6))\n",
    "plt.title('Model Comparison: R² Scores')\n",
    "plt.ylabel('R² (Explained Variance)')\n",
    "plt.xticks(rotation=45)\n",
    "plt.grid(axis='y', linestyle='--', alpha=0.7)\n",
    "plt.tight_layout()\n",
    "plt.show()"
   ]
  },
  {
   "cell_type": "markdown",
   "id": "c33514ee-d434-41bc-b66a-50f8668654d9",
   "metadata": {},
   "source": [
    "* Random Forest achieved the best performance with R² ≈ 0.91, indicating strong predictive power.\n",
    "\n",
    "* Gradient Boosting performed well with R² ≈ 0.82.\n",
    "\n",
    "* Linear, Ridge, and Lasso regressions performed poorly with very low or negative R² values."
   ]
  },
  {
   "cell_type": "code",
   "execution_count": null,
   "id": "bbd08211-f89d-4f76-906e-de83e633ab64",
   "metadata": {},
   "outputs": [],
   "source": []
  }
 ],
 "metadata": {},
 "nbformat": 4,
 "nbformat_minor": 5
}
